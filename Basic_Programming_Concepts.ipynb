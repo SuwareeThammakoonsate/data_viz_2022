{
  "nbformat": 4,
  "nbformat_minor": 0,
  "metadata": {
    "colab": {
      "name": "Basic Programming Concepts",
      "provenance": [],
      "authorship_tag": "ABX9TyN3GVz2L8qfWmv9zxs0oNHg",
      "include_colab_link": true
    },
    "kernelspec": {
      "name": "python3",
      "display_name": "Python 3"
    },
    "language_info": {
      "name": "python"
    }
  },
  "cells": [
    {
      "cell_type": "markdown",
      "metadata": {
        "id": "view-in-github",
        "colab_type": "text"
      },
      "source": [
        "<a href=\"https://colab.research.google.com/github/SuwareeThammakoonsate/data_viz_2022/blob/main/Basic_Programming_Concepts.ipynb\" target=\"_parent\"><img src=\"https://colab.research.google.com/assets/colab-badge.svg\" alt=\"Open In Colab\"/></a>"
      ]
    },
    {
      "cell_type": "markdown",
      "source": [
        "# Functions $(f(x)=y)$"
      ],
      "metadata": {
        "id": "NuqGkS08FWlJ"
      }
    },
    {
      "cell_type": "markdown",
      "source": [
        "\n",
        "\n",
        "```python\n",
        "def function_name(input_x):\n",
        "    # do something with input_x to get output_y\n",
        "    return output_y\n",
        "```\n",
        "\n"
      ],
      "metadata": {
        "id": "2D4xv9t3Edng"
      }
    },
    {
      "cell_type": "markdown",
      "source": [
        "$f_1(x)=x^2 + 75$"
      ],
      "metadata": {
        "id": "LNpBB-K8FyDG"
      }
    },
    {
      "cell_type": "code",
      "execution_count": null,
      "metadata": {
        "colab": {
          "base_uri": "https://localhost:8080/"
        },
        "id": "DtjwF-yFERni",
        "outputId": "d04e09c7-7504-44d5-a2a3-f2adcebae3cd"
      },
      "outputs": [
        {
          "output_type": "stream",
          "name": "stdout",
          "text": [
            "done!\n"
          ]
        }
      ],
      "source": [
        "def function_f1(x):\n",
        "  a = x**2 #เว้นเป็นส่วนหนึ่งของฟังค์ชัน\n",
        "  y = a + 75\n",
        "  return y\n",
        "\n",
        "print('done!') #มันไม่ได้เว้นมันเลยไม่เป็นส่วนหนึ่งของฟังค์ชัน ผลลัพธ์เลยเป็น done!"
      ]
    },
    {
      "cell_type": "code",
      "source": [
        "function_f1(3)"
      ],
      "metadata": {
        "colab": {
          "base_uri": "https://localhost:8080/"
        },
        "id": "_5HqXCqSGUk4",
        "outputId": "7a28e9fe-e3e5-4853-ec67-a19b540ca408"
      },
      "execution_count": null,
      "outputs": [
        {
          "output_type": "execute_result",
          "data": {
            "text/plain": [
              "84"
            ]
          },
          "metadata": {},
          "execution_count": 5
        }
      ]
    },
    {
      "cell_type": "code",
      "source": [
        "def function_f10(x): \n",
        "  A = x**3\n",
        "  y = A + 10\n",
        "  return y\n"
      ],
      "metadata": {
        "id": "BRHXQXnyLccp"
      },
      "execution_count": null,
      "outputs": []
    },
    {
      "cell_type": "code",
      "source": [
        "function_f10(2)"
      ],
      "metadata": {
        "colab": {
          "base_uri": "https://localhost:8080/"
        },
        "id": "IRNDAXlIL2gI",
        "outputId": "3d2497d2-a518-4795-b848-d1387b7ad2c8"
      },
      "execution_count": null,
      "outputs": [
        {
          "output_type": "execute_result",
          "data": {
            "text/plain": [
              "18"
            ]
          },
          "metadata": {},
          "execution_count": 19
        }
      ]
    },
    {
      "cell_type": "markdown",
      "source": [
        "function มีส่วนสำคัญทั้งหมด 4 ส่วน\n",
        "1. บอก python ว่าเราจะเขียนฟังค์ชันชื่ออะไร def function_name(): (ขาดไม่ได้)\n",
        "2. กำหนดตัวแปรที่จะเป็น input _input_ (ขาดได้)\n",
        "3. ส่วนประมวลผล do_something with _Input_ to get _Output_ (ขาดไม่ได้)\n",
        "3. ส่วน Output return _Output_ (ขาดได้)"
      ],
      "metadata": {
        "id": "ianrj86ZHSWq"
      }
    },
    {
      "cell_type": "markdown",
      "source": [
        "### ตัวอย่าง function ที่มีส่วนประกอบครบ"
      ],
      "metadata": {
        "id": "uGhFrcfdIKfG"
      }
    },
    {
      "cell_type": "code",
      "source": [
        "def function_f1(x):\n",
        "  a = x**2 \n",
        "  y = a + 75\n",
        "  return y"
      ],
      "metadata": {
        "id": "zN5PLV3EGfV_"
      },
      "execution_count": null,
      "outputs": []
    },
    {
      "cell_type": "markdown",
      "source": [
        "### ตัวอย่าง function ที่ไม่มี input"
      ],
      "metadata": {
        "id": "vVHMK1LmIUTx"
      }
    },
    {
      "cell_type": "code",
      "source": [
        "def pi_v():\n",
        "  y = 3.14159265359\n",
        "  return y"
      ],
      "metadata": {
        "id": "TV5ZWolrITKe"
      },
      "execution_count": null,
      "outputs": []
    },
    {
      "cell_type": "code",
      "source": [
        "piv = pi_v()\n",
        "circle_area_r2 = pi_v()*(2**2)\n",
        "print(circle_area_r2)"
      ],
      "metadata": {
        "colab": {
          "base_uri": "https://localhost:8080/"
        },
        "id": "5ckmoalIIoFE",
        "outputId": "2d64e4ce-3ff4-4e58-9878-dc1752b9e21b"
      },
      "execution_count": null,
      "outputs": [
        {
          "output_type": "stream",
          "name": "stdout",
          "text": [
            "12.56637061436\n"
          ]
        }
      ]
    },
    {
      "cell_type": "markdown",
      "source": [
        "### Function ไม่มี process ไม่ได้"
      ],
      "metadata": {
        "id": "uV3MGG7gJM9Z"
      }
    },
    {
      "cell_type": "code",
      "source": [
        "def function_a(): # มีแต่ชื่อ run ไม่ได้"
      ],
      "metadata": {
        "colab": {
          "base_uri": "https://localhost:8080/",
          "height": 134
        },
        "id": "DcCMqA1eI8TA",
        "outputId": "6f3a994a-27e8-4d7e-c9a7-c6f72d35c722"
      },
      "execution_count": null,
      "outputs": [
        {
          "output_type": "error",
          "ename": "SyntaxError",
          "evalue": "ignored",
          "traceback": [
            "\u001b[0;36m  File \u001b[0;32m\"<ipython-input-12-16072d85db74>\"\u001b[0;36m, line \u001b[0;32m1\u001b[0m\n\u001b[0;31m    def function_a(): # มีแต่ชื่อ run ไม่ได้\u001b[0m\n\u001b[0m                                            ^\u001b[0m\n\u001b[0;31mSyntaxError\u001b[0m\u001b[0;31m:\u001b[0m unexpected EOF while parsing\n"
          ]
        }
      ]
    },
    {
      "cell_type": "markdown",
      "source": [
        "### ตัวอย่าง Function ที่ไม่มี output"
      ],
      "metadata": {
        "id": "amfuz_9FJeZZ"
      }
    },
    {
      "cell_type": "code",
      "source": [
        "def print_name_id(name,id):\n",
        "  print(f'ชื่อ {name} รหัสประจำตัว {id}')"
      ],
      "metadata": {
        "id": "BvzxCCPKJMOW"
      },
      "execution_count": null,
      "outputs": []
    },
    {
      "cell_type": "code",
      "source": [
        "print_name_id('สุวรีย์','623020735-9')"
      ],
      "metadata": {
        "colab": {
          "base_uri": "https://localhost:8080/"
        },
        "id": "7_Klr2udJzo0",
        "outputId": "bba45bf7-a755-47af-c694-92130bce1ba1"
      },
      "execution_count": null,
      "outputs": [
        {
          "output_type": "stream",
          "name": "stdout",
          "text": [
            "ชื่อ สุวรีย์ รหัสประจำตัว 623020735-9\n"
          ]
        }
      ]
    },
    {
      "cell_type": "code",
      "source": [
        "a = print_name_id('สุวรีย์','623020735-9')"
      ],
      "metadata": {
        "colab": {
          "base_uri": "https://localhost:8080/"
        },
        "id": "1Ztm-ud9KHnQ",
        "outputId": "171ffeb5-0083-47b0-f00c-6d6e65d598a4"
      },
      "execution_count": null,
      "outputs": [
        {
          "output_type": "stream",
          "name": "stdout",
          "text": [
            "ชื่อ สุวรีย์ รหัสประจำตัว 623020735-9\n"
          ]
        }
      ]
    },
    {
      "cell_type": "code",
      "source": [
        "a"
      ],
      "metadata": {
        "id": "m4a2-piDKju7"
      },
      "execution_count": null,
      "outputs": []
    },
    {
      "cell_type": "code",
      "source": [
        "print('สุวรีย์')\n"
      ],
      "metadata": {
        "id": "3KNhoB_TO9ri"
      },
      "execution_count": null,
      "outputs": []
    },
    {
      "cell_type": "markdown",
      "source": [
        "ตัวอย่าง function print https://www.programiz.com/python-programming/methods/built-in/print?fbclid=IwAR3AHwZwzSCixkPdfPbCSDTO9_rCwjCmCbK1PGTafTIojtZz3YVvj-Lz734"
      ],
      "metadata": {
        "id": "gN5TqWtGRDAO"
      }
    },
    {
      "cell_type": "code",
      "source": [
        "print('สุวรีย์')\n",
        "print('623020735-9')"
      ],
      "metadata": {
        "colab": {
          "base_uri": "https://localhost:8080/"
        },
        "id": "1GnKngtaRHPh",
        "outputId": "858d3a7c-b0ed-4f2e-b789-618e9fcb3876"
      },
      "execution_count": null,
      "outputs": [
        {
          "output_type": "stream",
          "name": "stdout",
          "text": [
            "สุวรีย์\n",
            "623020735-9\n"
          ]
        }
      ]
    },
    {
      "cell_type": "code",
      "source": [
        "print('สุวรีย์',end='->')\n",
        "print('623020735-9')"
      ],
      "metadata": {
        "colab": {
          "base_uri": "https://localhost:8080/"
        },
        "id": "InSl2jnqRUwg",
        "outputId": "04f45771-808c-433e-99cb-4bf761d0851a"
      },
      "execution_count": null,
      "outputs": [
        {
          "output_type": "stream",
          "name": "stdout",
          "text": [
            "สุวรีย์->623020735-9\n"
          ]
        }
      ]
    },
    {
      "cell_type": "code",
      "source": [
        "print('สุวรีย์','623020735-9')"
      ],
      "metadata": {
        "colab": {
          "base_uri": "https://localhost:8080/"
        },
        "id": "JcegMJMuRhQD",
        "outputId": "ae675b38-8fa5-4057-c04c-a206c409e2dd"
      },
      "execution_count": null,
      "outputs": [
        {
          "output_type": "stream",
          "name": "stdout",
          "text": [
            "สุวรีย์ 623020735-9\n"
          ]
        }
      ]
    },
    {
      "cell_type": "code",
      "source": [
        "print('สุวรีย์','623020735-9',sep='&')"
      ],
      "metadata": {
        "colab": {
          "base_uri": "https://localhost:8080/"
        },
        "id": "Xffa1b7GZ4zU",
        "outputId": "da860ea7-0e18-41e1-ee66-15fe51eb68e0"
      },
      "execution_count": null,
      "outputs": [
        {
          "output_type": "stream",
          "name": "stdout",
          "text": [
            "สุวรีย์&623020735-9\n"
          ]
        }
      ]
    },
    {
      "cell_type": "markdown",
      "source": [
        "### input ของ function แบ่งเป็น 2 ชนิด (จำเป็นต้องใส่ กับ ไม่จำเป็นต้องใส่)"
      ],
      "metadata": {
        "id": "GoDX_ZVhaIZq"
      }
    },
    {
      "cell_type": "markdown",
      "source": [
        "ตัวอย่าง Function print_grade() มี input 3 ตัว จำเป็นต้องใส่ 2 ตัว คือ name กับ id และไม่จำเป็นต้องใส่ 1 ตัว คือเกรด ซึ่งมีค่า default เป็น F"
      ],
      "metadata": {
        "id": "8C5TJ3cwaYUf"
      }
    },
    {
      "cell_type": "code",
      "source": [
        "def print_grade(name,id,grade = 'F'):\n",
        "  print(f'รหัสประจำตัว {id} ชื่อ {name}')\n",
        "  print(f'ได้เกรด{grade}')"
      ],
      "metadata": {
        "id": "n9HceFK_aH-L"
      },
      "execution_count": null,
      "outputs": []
    },
    {
      "cell_type": "code",
      "source": [
        "print_grade('สิทธัตกะ จรัสแสง','623020541-2')"
      ],
      "metadata": {
        "colab": {
          "base_uri": "https://localhost:8080/"
        },
        "id": "dLCiF2EBbSig",
        "outputId": "7ff9f971-e2b5-4cc3-92c8-69999f162406"
      },
      "execution_count": null,
      "outputs": [
        {
          "output_type": "stream",
          "name": "stdout",
          "text": [
            "รหัสประจำตัว 623020541-2 ชื่อ สิทธัตกะ จรัสแสง\n",
            "ได้เกรดF\n"
          ]
        }
      ]
    },
    {
      "cell_type": "code",
      "source": [
        "print_grade('สิทธัตกะ จรัสแสง','623020541-2','A')"
      ],
      "metadata": {
        "colab": {
          "base_uri": "https://localhost:8080/"
        },
        "id": "VtgPvF7rbf1D",
        "outputId": "d7f45f1c-bf5d-46a6-b80e-c31b3f2ba301"
      },
      "execution_count": null,
      "outputs": [
        {
          "output_type": "stream",
          "name": "stdout",
          "text": [
            "รหัสประจำตัว 623020541-2 ชื่อ สิทธัตกะ จรัสแสง\n",
            "ได้เกรดA\n"
          ]
        }
      ]
    },
    {
      "cell_type": "code",
      "source": [
        "print_grade('สิทธัตกะ จรัสแสง','623020541-2','B+')"
      ],
      "metadata": {
        "colab": {
          "base_uri": "https://localhost:8080/"
        },
        "id": "zKk49OCMfFbS",
        "outputId": "81339c66-37cc-4392-9ccf-e93d14dc65b3"
      },
      "execution_count": null,
      "outputs": [
        {
          "output_type": "stream",
          "name": "stdout",
          "text": [
            "รหัสประจำตัว 623020541-2 ชื่อ สิทธัตกะ จรัสแสง\n",
            "ได้เกรดB+\n"
          ]
        }
      ]
    },
    {
      "cell_type": "markdown",
      "source": [
        "# Looping (for)"
      ],
      "metadata": {
        "id": "npPi-YBfKn3R"
      }
    },
    {
      "cell_type": "markdown",
      "source": [
        "``` \n",
        "for member in listEx:\n",
        "    do_something()\n",
        "```"
      ],
      "metadata": {
        "id": "_CcFm5YITisf"
      }
    },
    {
      "cell_type": "code",
      "source": [
        "for member in [1,2,3,4,5,6]:\n",
        "  print(member)"
      ],
      "metadata": {
        "id": "wjfPNFB9Kkfv",
        "colab": {
          "base_uri": "https://localhost:8080/"
        },
        "outputId": "1c4b43ce-8161-47c5-baec-32f8f622ae2f"
      },
      "execution_count": null,
      "outputs": [
        {
          "output_type": "stream",
          "name": "stdout",
          "text": [
            "1\n",
            "2\n",
            "3\n",
            "4\n",
            "5\n",
            "6\n"
          ]
        }
      ]
    },
    {
      "cell_type": "code",
      "source": [
        "def print_name(name):\n",
        "  print(f'ฉันชื่อ{name}')"
      ],
      "metadata": {
        "id": "rBjlroKLUcov"
      },
      "execution_count": null,
      "outputs": []
    },
    {
      "cell_type": "code",
      "source": [
        "for name in ['สุวรีย์','ญาดา','ชลธิชา','กิตติคุณ','เขมอัปสร']:\n",
        "  N = name\n",
        "  print_name(N)"
      ],
      "metadata": {
        "colab": {
          "base_uri": "https://localhost:8080/"
        },
        "id": "GTEWSTw2VIgy",
        "outputId": "f0758a75-e85f-4eb9-c7b1-f21ae62f82b3"
      },
      "execution_count": null,
      "outputs": [
        {
          "output_type": "stream",
          "name": "stdout",
          "text": [
            "ฉันชื่อสุวรีย์\n",
            "ฉันชื่อญาดา\n",
            "ฉันชื่อชลธิชา\n",
            "ฉันชื่อกิตติคุณ\n",
            "ฉันชื่อเขมอัปสร\n"
          ]
        }
      ]
    },
    {
      "cell_type": "code",
      "source": [
        "list_name_id_grade = [['สุวรีย์ ธรรมคูณเศรษฐ์','623020735-9','B+'],\n",
        "                      ['ปลายฟ้า คำเพ็ง','623021005-1','B']]"
      ],
      "metadata": {
        "id": "zpl41sIeWIcv"
      },
      "execution_count": null,
      "outputs": []
    },
    {
      "cell_type": "code",
      "source": [
        "for each in list_name_id_grade:\n",
        "  name = each[0]\n",
        "  id = each[1]\n",
        "  grade = each[2]\n",
        "  print_grade(name,id,grade) #ทำข้างบนตรงที่ยังไม่เสร็จก่อน\n",
        "  print('---------------')"
      ],
      "metadata": {
        "colab": {
          "base_uri": "https://localhost:8080/"
        },
        "id": "ce0RGDNtXTne",
        "outputId": "ff7ebc31-3554-482a-8bef-bb6278ec4396"
      },
      "execution_count": null,
      "outputs": [
        {
          "output_type": "stream",
          "name": "stdout",
          "text": [
            "รหัสประจำตัว 623020735-9 ชื่อ สุวรีย์ ธรรมคูณเศรษฐ์\n",
            "ได้เกรดB+\n",
            "---------------\n",
            "รหัสประจำตัว 623021005-1 ชื่อ ปลายฟ้า คำเพ็ง\n",
            "ได้เกรดB\n",
            "---------------\n"
          ]
        }
      ]
    },
    {
      "cell_type": "markdown",
      "source": [
        "### ใช้ for loop เพิ่มสมาชิกใน list"
      ],
      "metadata": {
        "id": "l58jnv6wYkb8"
      }
    },
    {
      "cell_type": "code",
      "source": [
        "list_name = []\n",
        "list_id = []\n",
        "list_grade = []\n",
        "for each in list_name_id_grade:\n",
        "  list_name.append(each[0])\n",
        "  list_id.append(each[1])\n",
        "  list_grade.append(each[2])"
      ],
      "metadata": {
        "id": "KsjKIMXRXoxP"
      },
      "execution_count": null,
      "outputs": []
    },
    {
      "cell_type": "code",
      "source": [
        "list_name"
      ],
      "metadata": {
        "colab": {
          "base_uri": "https://localhost:8080/"
        },
        "id": "eF7LdN3zZQDu",
        "outputId": "2088653f-1d8b-4889-b6db-e1678f5a7746"
      },
      "execution_count": null,
      "outputs": [
        {
          "output_type": "execute_result",
          "data": {
            "text/plain": [
              "['สุวรีย์ ธรรมคูณเศรษฐ์', 'ปลายฟ้า คำเพ็ง']"
            ]
          },
          "metadata": {},
          "execution_count": 36
        }
      ]
    },
    {
      "cell_type": "markdown",
      "source": [
        "### การวนลูปด้วย `range()`"
      ],
      "metadata": {
        "id": "VyUP6Azmbt29"
      }
    },
    {
      "cell_type": "code",
      "source": [
        "for i in range(100):\n",
        "  print('งง', end = ' ')"
      ],
      "metadata": {
        "colab": {
          "base_uri": "https://localhost:8080/"
        },
        "id": "1F_zSpOqZRyp",
        "outputId": "46314548-7418-46ba-8721-542a183ca7fb"
      },
      "execution_count": null,
      "outputs": [
        {
          "output_type": "stream",
          "name": "stdout",
          "text": [
            "งง งง งง งง งง งง งง งง งง งง งง งง งง งง งง งง งง งง งง งง งง งง งง งง งง งง งง งง งง งง งง งง งง งง งง งง งง งง งง งง งง งง งง งง งง งง งง งง งง งง งง งง งง งง งง งง งง งง งง งง งง งง งง งง งง งง งง งง งง งง งง งง งง งง งง งง งง งง งง งง งง งง งง งง งง งง งง งง งง งง งง งง งง งง งง งง งง งง งง งง "
          ]
        }
      ]
    },
    {
      "cell_type": "markdown",
      "source": [
        "### Loop ซ้อน Loop"
      ],
      "metadata": {
        "id": "Gl0S_ugPcjCi"
      }
    },
    {
      "cell_type": "code",
      "source": [
        "for mem1 in range(2,5): #[2,3,4]\n",
        "  print(f'now mem1 = {mem1}')\n",
        "  for mem2 in range(1,13): #[1,2,3,4,5,6,7,8,9,10,11,12]\n",
        "      print(f'{mem1} x {mem2} = {mem1*mem2}')\n",
        "  print(f'end inner for mem1 = {mem1}')"
      ],
      "metadata": {
        "colab": {
          "base_uri": "https://localhost:8080/"
        },
        "id": "cQOCrOErcIAu",
        "outputId": "bdd181e9-f14b-41bd-e936-ef4b42a4d890"
      },
      "execution_count": null,
      "outputs": [
        {
          "output_type": "stream",
          "name": "stdout",
          "text": [
            "now mem1 = 2\n",
            "2 x 1 = 2\n",
            "2 x 2 = 4\n",
            "2 x 3 = 6\n",
            "2 x 4 = 8\n",
            "2 x 5 = 10\n",
            "2 x 6 = 12\n",
            "2 x 7 = 14\n",
            "2 x 8 = 16\n",
            "2 x 9 = 18\n",
            "2 x 10 = 20\n",
            "2 x 11 = 22\n",
            "2 x 12 = 24\n",
            "end inner for mem1 = 2\n",
            "now mem1 = 3\n",
            "3 x 1 = 3\n",
            "3 x 2 = 6\n",
            "3 x 3 = 9\n",
            "3 x 4 = 12\n",
            "3 x 5 = 15\n",
            "3 x 6 = 18\n",
            "3 x 7 = 21\n",
            "3 x 8 = 24\n",
            "3 x 9 = 27\n",
            "3 x 10 = 30\n",
            "3 x 11 = 33\n",
            "3 x 12 = 36\n",
            "end inner for mem1 = 3\n",
            "now mem1 = 4\n",
            "4 x 1 = 4\n",
            "4 x 2 = 8\n",
            "4 x 3 = 12\n",
            "4 x 4 = 16\n",
            "4 x 5 = 20\n",
            "4 x 6 = 24\n",
            "4 x 7 = 28\n",
            "4 x 8 = 32\n",
            "4 x 9 = 36\n",
            "4 x 10 = 40\n",
            "4 x 11 = 44\n",
            "4 x 12 = 48\n",
            "end inner for mem1 = 4\n"
          ]
        }
      ]
    },
    {
      "cell_type": "markdown",
      "source": [
        "### Loop in function"
      ],
      "metadata": {
        "id": "93ekdMTAf_Wi"
      }
    },
    {
      "cell_type": "code",
      "source": [
        "def print_grade_loop(name,grades):\n",
        "  for "
      ],
      "metadata": {
        "id": "0ebHImcZc1DU"
      },
      "execution_count": null,
      "outputs": []
    },
    {
      "cell_type": "markdown",
      "source": [
        "# Conditional\n"
      ],
      "metadata": {
        "id": "hguEYAndjLzX"
      }
    },
    {
      "cell_type": "code",
      "source": [
        "for n in list_name:\n",
        "  if len(n)>20:\n",
        "    print(f'{n} ได้เกรด A')\n",
        "  else:\n",
        "    print(f'{n} ได้เกรด F')"
      ],
      "metadata": {
        "colab": {
          "base_uri": "https://localhost:8080/"
        },
        "id": "AuZQnG70jLgh",
        "outputId": "c16832ae-4cf3-4627-ba68-f5f8c2490930"
      },
      "execution_count": null,
      "outputs": [
        {
          "output_type": "stream",
          "name": "stdout",
          "text": [
            "สุวรีย์ ธรรมคูณเศรษฐ์ ได้เกรด A\n",
            "ปลายฟ้า คำเพ็ง ได้เกรด F\n"
          ]
        }
      ]
    },
    {
      "cell_type": "markdown",
      "source": [
        "### operator ที่ใช้ตรวจสอบ condition\n",
        "\n",
        "==, !=, >=, <=, <, >, and or"
      ],
      "metadata": {
        "id": "l-retIFvkIG_"
      }
    },
    {
      "cell_type": "code",
      "source": [
        "a = 10 == 20\n",
        "print(a)"
      ],
      "metadata": {
        "colab": {
          "base_uri": "https://localhost:8080/"
        },
        "id": "1jg_Qsn2j_wD",
        "outputId": "441637a1-b4a2-44ae-f0fd-dbc870b824af"
      },
      "execution_count": null,
      "outputs": [
        {
          "output_type": "stream",
          "name": "stdout",
          "text": [
            "False\n"
          ]
        }
      ]
    },
    {
      "cell_type": "code",
      "source": [
        "b = 15 <= 20\n",
        "print(b)"
      ],
      "metadata": {
        "colab": {
          "base_uri": "https://localhost:8080/"
        },
        "id": "tO8XfTk_kigh",
        "outputId": "e27458ad-bf51-451c-ec8e-5f516607bf4d"
      },
      "execution_count": null,
      "outputs": [
        {
          "output_type": "stream",
          "name": "stdout",
          "text": [
            "True\n"
          ]
        }
      ]
    },
    {
      "cell_type": "code",
      "source": [
        "if a:\n",
        "  print('x') # ไม่ print เพราะ a เป็น False"
      ],
      "metadata": {
        "id": "AoIT-3PVkkMa"
      },
      "execution_count": null,
      "outputs": []
    },
    {
      "cell_type": "code",
      "source": [
        "if True:\n",
        "  print('x')"
      ],
      "metadata": {
        "colab": {
          "base_uri": "https://localhost:8080/"
        },
        "id": "SoDjSr3vk5jb",
        "outputId": "67a3efdc-eacf-4acb-f9b4-404fd32441b8"
      },
      "execution_count": null,
      "outputs": [
        {
          "output_type": "stream",
          "name": "stdout",
          "text": [
            "x\n"
          ]
        }
      ]
    },
    {
      "cell_type": "code",
      "source": [
        "if a and b:\n",
        "  print('x')\n"
      ],
      "metadata": {
        "id": "Ij7mFTO-lNxJ"
      },
      "execution_count": null,
      "outputs": []
    },
    {
      "cell_type": "code",
      "source": [
        "if a or b:\n",
        "  print('x')"
      ],
      "metadata": {
        "colab": {
          "base_uri": "https://localhost:8080/"
        },
        "id": "eeFnXcP7lbJ4",
        "outputId": "76fd8043-19b7-4dac-b9f1-7121fca70e7f"
      },
      "execution_count": null,
      "outputs": [
        {
          "output_type": "stream",
          "name": "stdout",
          "text": [
            "x\n"
          ]
        }
      ]
    },
    {
      "cell_type": "markdown",
      "source": [
        "## HW\n",
        "เขียน Function ตัดเกรด โดยที่ input เป็นคะแนน(0,100) , output เป็นเกรด (F-A) หรือ 'ไม่สามารถตัดเกรดได้'\n",
        "\n",
        "วนลูปตัดเกรด input = [1,50,65,90,101,-5,49,'ก',80]\n",
        "\n",
        "กำหนด\n",
        "\n",
        "- ถ้าคะแนนอยู่ระหว่างมากกว่าหรือเท่ากับ 0 แต่น้อยกว่า 50 จะได้เกรด F\n",
        "- ถ้าคะแนนอยู่ระหว่างมากกว่าหรือเท่ากับ 50 แต่น้อยกว่า 55 จะได้เกรด D\n",
        "- ถ้าคะแนนอยู่ระหว่างมากกว่าหรือเท่ากับ 55 แต่น้อยกว่า 60 จะได้เกรด D+\n",
        "- ถ้าคะแนนอยู่ระหว่างมากกว่าหรือเท่ากับ 60 แต่น้อยกว่า 65 จะได้เกรด C\n",
        "- ถ้าคะแนนอยู่ระหว่างมากกว่าหรือเท่ากับ 65 แต่น้อยกว่า 70 จะได้เกรด C+\n",
        "- ถ้าคะแนนอยู่ระหว่างมากกว่าหรือเท่ากับ 70 แต่น้อยกว่า 75 จะได้เกรด B\n",
        "- ถ้าคะแนนอยู่ระหว่างมากกว่าหรือเท่ากับ 75 แต่น้อยกว่า 80 จะได้เกรด B+\n",
        "- ถ้าคะแนนอยู่ระหว่างมากกว่าหรือเท่ากับ 80 จะได้เกรด A\n",
        "- ถ้าคะแนนไม่อยู่ในช่วง 0-100 ให้ return 'ไม่สามารถตัดเกรดได้' "
      ],
      "metadata": {
        "id": "jMVnX19ylraA"
      }
    },
    {
      "cell_type": "code",
      "source": [
        "a = [1,50,65,90,101,-5,49,'ก',80]"
      ],
      "metadata": {
        "id": "W5_qXe89HUfP"
      },
      "execution_count": 7,
      "outputs": []
    },
    {
      "cell_type": "code",
      "source": [
        "def grade(a):\n",
        "  if type(a) != int:\n",
        "    print(f'คะแนน = {a} ไม่สามารถตัดเกรดได้')\n",
        "  elif a >100:\n",
        "    print(f'คะแนน = {a} ไม่สามารถตัดเกรดได้')\n",
        "  elif a >=80:\n",
        "    print(f'คะแนน = {a} ได้เกรด A')\n",
        "  elif a >=75:\n",
        "    print(f'คะแนน = {a} ได้เกรด B+')  \n",
        "  elif a >=70:\n",
        "    print(f'คะแนน = {a} ได้เกรด B')  \n",
        "  elif a >=65:\n",
        "    print(f'คะแนน = {a} ได้เกรด C+')  \n",
        "  elif a >=60:\n",
        "    print(f'คะแนน = {a} ได้เกรด C')  \n",
        "  elif a >=55:\n",
        "    print(f'คะแนน = {a} ได้เกรด D+')  \n",
        "  elif a >=50:\n",
        "    print(f'คะแนน = {a} ได้เกรด D')  \n",
        "  elif a >=0:\n",
        "    print(f'คะแนน = {a} ได้เกรด F')\n",
        "  else:\n",
        "    print(f'คะแนน = {a} ไม่สามารถตัดเกรดได้')  \n"
      ],
      "metadata": {
        "id": "fGyIc0z3leoG"
      },
      "execution_count": 2,
      "outputs": []
    },
    {
      "cell_type": "code",
      "source": [
        "input"
      ],
      "metadata": {
        "colab": {
          "base_uri": "https://localhost:8080/"
        },
        "id": "_pdb4rHrHH4M",
        "outputId": "4c1f9ca3-69e3-4cc5-babd-e2f81885b2a1"
      },
      "execution_count": 3,
      "outputs": [
        {
          "output_type": "execute_result",
          "data": {
            "text/plain": [
              "[1, 50, 65, 90, 101, -5, 49, 'ก', 80]"
            ]
          },
          "metadata": {},
          "execution_count": 3
        }
      ]
    },
    {
      "cell_type": "code",
      "source": [
        "grade(2)"
      ],
      "metadata": {
        "colab": {
          "base_uri": "https://localhost:8080/"
        },
        "id": "jZ9TVplcKDEt",
        "outputId": "f65b5e11-a158-4e70-c8dc-93514fc4d050"
      },
      "execution_count": 8,
      "outputs": [
        {
          "output_type": "stream",
          "name": "stdout",
          "text": [
            "คะแนน = 2 ได้เกรด F\n"
          ]
        }
      ]
    },
    {
      "cell_type": "code",
      "source": [
        "grade(1)"
      ],
      "metadata": {
        "colab": {
          "base_uri": "https://localhost:8080/"
        },
        "id": "T098svN8ebrQ",
        "outputId": "2fead9c8-6a03-4988-a3a2-2d8320f87e92"
      },
      "execution_count": null,
      "outputs": [
        {
          "output_type": "stream",
          "name": "stdout",
          "text": [
            "คะแนน = 1 ได้เกรด F\n"
          ]
        }
      ]
    },
    {
      "cell_type": "code",
      "source": [
        "grade(50)"
      ],
      "metadata": {
        "colab": {
          "base_uri": "https://localhost:8080/"
        },
        "id": "HVVnQ91ZgG4g",
        "outputId": "88c92c19-2ea6-4d6f-b933-23b25aa25090"
      },
      "execution_count": null,
      "outputs": [
        {
          "output_type": "stream",
          "name": "stdout",
          "text": [
            "คะแนน = 50 ได้เกรด D\n"
          ]
        }
      ]
    },
    {
      "cell_type": "code",
      "source": [
        "grade(65)"
      ],
      "metadata": {
        "colab": {
          "base_uri": "https://localhost:8080/"
        },
        "id": "c8jK1EqKgPEt",
        "outputId": "42a3d0fd-3693-41b0-c93d-084ac1deb181"
      },
      "execution_count": null,
      "outputs": [
        {
          "output_type": "stream",
          "name": "stdout",
          "text": [
            "คะแนน = 65 ได้เกรด C+\n"
          ]
        }
      ]
    },
    {
      "cell_type": "code",
      "source": [
        "grade(90)"
      ],
      "metadata": {
        "colab": {
          "base_uri": "https://localhost:8080/"
        },
        "id": "SqrsnlGfgRxn",
        "outputId": "221ae0af-12c5-480a-e5a4-0facf1346ceb"
      },
      "execution_count": null,
      "outputs": [
        {
          "output_type": "stream",
          "name": "stdout",
          "text": [
            "คะแนน = 90 ได้เกรด A\n"
          ]
        }
      ]
    },
    {
      "cell_type": "code",
      "source": [
        "grade(101)"
      ],
      "metadata": {
        "colab": {
          "base_uri": "https://localhost:8080/"
        },
        "id": "ZtJIX2cqgT-P",
        "outputId": "8582d3e8-1a7b-4f07-8634-dd8375a4404b"
      },
      "execution_count": null,
      "outputs": [
        {
          "output_type": "stream",
          "name": "stdout",
          "text": [
            "คะแนน = 101 ไม่สามารถตัดเกรดได้\n"
          ]
        }
      ]
    },
    {
      "cell_type": "code",
      "source": [
        "grade(-5)"
      ],
      "metadata": {
        "colab": {
          "base_uri": "https://localhost:8080/"
        },
        "id": "fLTWk2djgWGW",
        "outputId": "2400a7d4-88ec-4a64-8768-219198ddfb71"
      },
      "execution_count": null,
      "outputs": [
        {
          "output_type": "stream",
          "name": "stdout",
          "text": [
            "คะแนน = -5 ไม่สามารถตัดเกรดได้\n"
          ]
        }
      ]
    },
    {
      "cell_type": "code",
      "source": [
        "grade(49)"
      ],
      "metadata": {
        "colab": {
          "base_uri": "https://localhost:8080/"
        },
        "id": "Rs2LlO65gY8E",
        "outputId": "28c3e861-abde-4d00-89c9-3c3f6b071fe8"
      },
      "execution_count": null,
      "outputs": [
        {
          "output_type": "stream",
          "name": "stdout",
          "text": [
            "คะแนน = 49 ได้เกรด F\n"
          ]
        }
      ]
    },
    {
      "cell_type": "code",
      "source": [
        "grade('ก')"
      ],
      "metadata": {
        "colab": {
          "base_uri": "https://localhost:8080/"
        },
        "id": "bht2ZQ73gbPZ",
        "outputId": "1a51941c-48ec-4ccb-e626-78e312a84fc2"
      },
      "execution_count": null,
      "outputs": [
        {
          "output_type": "stream",
          "name": "stdout",
          "text": [
            "คะแนน = ก ไม่สามารถตัดเกรดได้\n"
          ]
        }
      ]
    },
    {
      "cell_type": "code",
      "source": [
        "grade(80)"
      ],
      "metadata": {
        "id": "nWHYsPtzgf0v",
        "outputId": "44d2a217-b0d6-4b62-cbdf-fa3af61834f9",
        "colab": {
          "base_uri": "https://localhost:8080/"
        }
      },
      "execution_count": null,
      "outputs": [
        {
          "output_type": "stream",
          "name": "stdout",
          "text": [
            "คะแนน = 80 ได้เกรด A\n"
          ]
        }
      ]
    },
    {
      "cell_type": "markdown",
      "source": [
        ""
      ],
      "metadata": {
        "id": "SapfnBMUHIdA"
      }
    },
    {
      "cell_type": "code",
      "source": [
        ""
      ],
      "metadata": {
        "id": "MnLlTtfGgi4P"
      },
      "execution_count": null,
      "outputs": []
    }
  ]
}