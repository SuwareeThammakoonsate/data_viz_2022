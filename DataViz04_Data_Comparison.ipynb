{
  "nbformat": 4,
  "nbformat_minor": 0,
  "metadata": {
    "colab": {
      "name": "DataViz04 Data Comparison.ipynb",
      "provenance": [],
      "authorship_tag": "ABX9TyN8y/LHK0p5onPnD6WQmHXw",
      "include_colab_link": true
    },
    "kernelspec": {
      "name": "python3",
      "display_name": "Python 3"
    },
    "language_info": {
      "name": "python"
    }
  },
  "cells": [
    {
      "cell_type": "markdown",
      "metadata": {
        "id": "view-in-github",
        "colab_type": "text"
      },
      "source": [
        "<a href=\"https://colab.research.google.com/github/SuwareeThammakoonsate/data_viz_2022/blob/main/DataViz04_Data_Comparison.ipynb\" target=\"_parent\"><img src=\"https://colab.research.google.com/assets/colab-badge.svg\" alt=\"Open In Colab\"/></a>"
      ]
    },
    {
      "cell_type": "markdown",
      "source": [
        "# เปรียบเทียบข้อมูลด้วย coordinate plot"
      ],
      "metadata": {
        "id": "vN-dAerY6Gc4"
      }
    },
    {
      "cell_type": "code",
      "execution_count": 1,
      "metadata": {
        "id": "a66caO5Q5wyi"
      },
      "outputs": [],
      "source": [
        "import pandas as pd"
      ]
    },
    {
      "cell_type": "code",
      "source": [
        "example_df = pd.read_csv('https://raw.github.com/pandas-dev/pandas/master/pandas/tests/io/data/csv/iris.csv')\n",
        "example_df"
      ],
      "metadata": {
        "colab": {
          "base_uri": "https://localhost:8080/",
          "height": 423
        },
        "id": "UB5iNlKk6aoG",
        "outputId": "362be2b4-72d0-4a85-882e-171f7b622c03"
      },
      "execution_count": 2,
      "outputs": [
        {
          "output_type": "execute_result",
          "data": {
            "text/html": [
              "\n",
              "  <div id=\"df-cfbe7296-9628-44a9-892b-499792c85572\">\n",
              "    <div class=\"colab-df-container\">\n",
              "      <div>\n",
              "<style scoped>\n",
              "    .dataframe tbody tr th:only-of-type {\n",
              "        vertical-align: middle;\n",
              "    }\n",
              "\n",
              "    .dataframe tbody tr th {\n",
              "        vertical-align: top;\n",
              "    }\n",
              "\n",
              "    .dataframe thead th {\n",
              "        text-align: right;\n",
              "    }\n",
              "</style>\n",
              "<table border=\"1\" class=\"dataframe\">\n",
              "  <thead>\n",
              "    <tr style=\"text-align: right;\">\n",
              "      <th></th>\n",
              "      <th>SepalLength</th>\n",
              "      <th>SepalWidth</th>\n",
              "      <th>PetalLength</th>\n",
              "      <th>PetalWidth</th>\n",
              "      <th>Name</th>\n",
              "    </tr>\n",
              "  </thead>\n",
              "  <tbody>\n",
              "    <tr>\n",
              "      <th>0</th>\n",
              "      <td>5.1</td>\n",
              "      <td>3.5</td>\n",
              "      <td>1.4</td>\n",
              "      <td>0.2</td>\n",
              "      <td>Iris-setosa</td>\n",
              "    </tr>\n",
              "    <tr>\n",
              "      <th>1</th>\n",
              "      <td>4.9</td>\n",
              "      <td>3.0</td>\n",
              "      <td>1.4</td>\n",
              "      <td>0.2</td>\n",
              "      <td>Iris-setosa</td>\n",
              "    </tr>\n",
              "    <tr>\n",
              "      <th>2</th>\n",
              "      <td>4.7</td>\n",
              "      <td>3.2</td>\n",
              "      <td>1.3</td>\n",
              "      <td>0.2</td>\n",
              "      <td>Iris-setosa</td>\n",
              "    </tr>\n",
              "    <tr>\n",
              "      <th>3</th>\n",
              "      <td>4.6</td>\n",
              "      <td>3.1</td>\n",
              "      <td>1.5</td>\n",
              "      <td>0.2</td>\n",
              "      <td>Iris-setosa</td>\n",
              "    </tr>\n",
              "    <tr>\n",
              "      <th>4</th>\n",
              "      <td>5.0</td>\n",
              "      <td>3.6</td>\n",
              "      <td>1.4</td>\n",
              "      <td>0.2</td>\n",
              "      <td>Iris-setosa</td>\n",
              "    </tr>\n",
              "    <tr>\n",
              "      <th>...</th>\n",
              "      <td>...</td>\n",
              "      <td>...</td>\n",
              "      <td>...</td>\n",
              "      <td>...</td>\n",
              "      <td>...</td>\n",
              "    </tr>\n",
              "    <tr>\n",
              "      <th>145</th>\n",
              "      <td>6.7</td>\n",
              "      <td>3.0</td>\n",
              "      <td>5.2</td>\n",
              "      <td>2.3</td>\n",
              "      <td>Iris-virginica</td>\n",
              "    </tr>\n",
              "    <tr>\n",
              "      <th>146</th>\n",
              "      <td>6.3</td>\n",
              "      <td>2.5</td>\n",
              "      <td>5.0</td>\n",
              "      <td>1.9</td>\n",
              "      <td>Iris-virginica</td>\n",
              "    </tr>\n",
              "    <tr>\n",
              "      <th>147</th>\n",
              "      <td>6.5</td>\n",
              "      <td>3.0</td>\n",
              "      <td>5.2</td>\n",
              "      <td>2.0</td>\n",
              "      <td>Iris-virginica</td>\n",
              "    </tr>\n",
              "    <tr>\n",
              "      <th>148</th>\n",
              "      <td>6.2</td>\n",
              "      <td>3.4</td>\n",
              "      <td>5.4</td>\n",
              "      <td>2.3</td>\n",
              "      <td>Iris-virginica</td>\n",
              "    </tr>\n",
              "    <tr>\n",
              "      <th>149</th>\n",
              "      <td>5.9</td>\n",
              "      <td>3.0</td>\n",
              "      <td>5.1</td>\n",
              "      <td>1.8</td>\n",
              "      <td>Iris-virginica</td>\n",
              "    </tr>\n",
              "  </tbody>\n",
              "</table>\n",
              "<p>150 rows × 5 columns</p>\n",
              "</div>\n",
              "      <button class=\"colab-df-convert\" onclick=\"convertToInteractive('df-cfbe7296-9628-44a9-892b-499792c85572')\"\n",
              "              title=\"Convert this dataframe to an interactive table.\"\n",
              "              style=\"display:none;\">\n",
              "        \n",
              "  <svg xmlns=\"http://www.w3.org/2000/svg\" height=\"24px\"viewBox=\"0 0 24 24\"\n",
              "       width=\"24px\">\n",
              "    <path d=\"M0 0h24v24H0V0z\" fill=\"none\"/>\n",
              "    <path d=\"M18.56 5.44l.94 2.06.94-2.06 2.06-.94-2.06-.94-.94-2.06-.94 2.06-2.06.94zm-11 1L8.5 8.5l.94-2.06 2.06-.94-2.06-.94L8.5 2.5l-.94 2.06-2.06.94zm10 10l.94 2.06.94-2.06 2.06-.94-2.06-.94-.94-2.06-.94 2.06-2.06.94z\"/><path d=\"M17.41 7.96l-1.37-1.37c-.4-.4-.92-.59-1.43-.59-.52 0-1.04.2-1.43.59L10.3 9.45l-7.72 7.72c-.78.78-.78 2.05 0 2.83L4 21.41c.39.39.9.59 1.41.59.51 0 1.02-.2 1.41-.59l7.78-7.78 2.81-2.81c.8-.78.8-2.07 0-2.86zM5.41 20L4 18.59l7.72-7.72 1.47 1.35L5.41 20z\"/>\n",
              "  </svg>\n",
              "      </button>\n",
              "      \n",
              "  <style>\n",
              "    .colab-df-container {\n",
              "      display:flex;\n",
              "      flex-wrap:wrap;\n",
              "      gap: 12px;\n",
              "    }\n",
              "\n",
              "    .colab-df-convert {\n",
              "      background-color: #E8F0FE;\n",
              "      border: none;\n",
              "      border-radius: 50%;\n",
              "      cursor: pointer;\n",
              "      display: none;\n",
              "      fill: #1967D2;\n",
              "      height: 32px;\n",
              "      padding: 0 0 0 0;\n",
              "      width: 32px;\n",
              "    }\n",
              "\n",
              "    .colab-df-convert:hover {\n",
              "      background-color: #E2EBFA;\n",
              "      box-shadow: 0px 1px 2px rgba(60, 64, 67, 0.3), 0px 1px 3px 1px rgba(60, 64, 67, 0.15);\n",
              "      fill: #174EA6;\n",
              "    }\n",
              "\n",
              "    [theme=dark] .colab-df-convert {\n",
              "      background-color: #3B4455;\n",
              "      fill: #D2E3FC;\n",
              "    }\n",
              "\n",
              "    [theme=dark] .colab-df-convert:hover {\n",
              "      background-color: #434B5C;\n",
              "      box-shadow: 0px 1px 3px 1px rgba(0, 0, 0, 0.15);\n",
              "      filter: drop-shadow(0px 1px 2px rgba(0, 0, 0, 0.3));\n",
              "      fill: #FFFFFF;\n",
              "    }\n",
              "  </style>\n",
              "\n",
              "      <script>\n",
              "        const buttonEl =\n",
              "          document.querySelector('#df-cfbe7296-9628-44a9-892b-499792c85572 button.colab-df-convert');\n",
              "        buttonEl.style.display =\n",
              "          google.colab.kernel.accessAllowed ? 'block' : 'none';\n",
              "\n",
              "        async function convertToInteractive(key) {\n",
              "          const element = document.querySelector('#df-cfbe7296-9628-44a9-892b-499792c85572');\n",
              "          const dataTable =\n",
              "            await google.colab.kernel.invokeFunction('convertToInteractive',\n",
              "                                                     [key], {});\n",
              "          if (!dataTable) return;\n",
              "\n",
              "          const docLinkHtml = 'Like what you see? Visit the ' +\n",
              "            '<a target=\"_blank\" href=https://colab.research.google.com/notebooks/data_table.ipynb>data table notebook</a>'\n",
              "            + ' to learn more about interactive tables.';\n",
              "          element.innerHTML = '';\n",
              "          dataTable['output_type'] = 'display_data';\n",
              "          await google.colab.output.renderOutput(dataTable, element);\n",
              "          const docLink = document.createElement('div');\n",
              "          docLink.innerHTML = docLinkHtml;\n",
              "          element.appendChild(docLink);\n",
              "        }\n",
              "      </script>\n",
              "    </div>\n",
              "  </div>\n",
              "  "
            ],
            "text/plain": [
              "     SepalLength  SepalWidth  PetalLength  PetalWidth            Name\n",
              "0            5.1         3.5          1.4         0.2     Iris-setosa\n",
              "1            4.9         3.0          1.4         0.2     Iris-setosa\n",
              "2            4.7         3.2          1.3         0.2     Iris-setosa\n",
              "3            4.6         3.1          1.5         0.2     Iris-setosa\n",
              "4            5.0         3.6          1.4         0.2     Iris-setosa\n",
              "..           ...         ...          ...         ...             ...\n",
              "145          6.7         3.0          5.2         2.3  Iris-virginica\n",
              "146          6.3         2.5          5.0         1.9  Iris-virginica\n",
              "147          6.5         3.0          5.2         2.0  Iris-virginica\n",
              "148          6.2         3.4          5.4         2.3  Iris-virginica\n",
              "149          5.9         3.0          5.1         1.8  Iris-virginica\n",
              "\n",
              "[150 rows x 5 columns]"
            ]
          },
          "metadata": {},
          "execution_count": 2
        }
      ]
    },
    {
      "cell_type": "code",
      "source": [
        "sample_data = example_df.groupby('Name').mean()"
      ],
      "metadata": {
        "id": "z3UPK6FO6dnh"
      },
      "execution_count": 3,
      "outputs": []
    },
    {
      "cell_type": "code",
      "source": [
        "sample_data #ข้อมูลเปรียบเทียบค่าเฉลี่ยแต่ละดอก"
      ],
      "metadata": {
        "colab": {
          "base_uri": "https://localhost:8080/",
          "height": 174
        },
        "id": "Fip9KB-x6wIt",
        "outputId": "8aebc2c0-b833-4cb4-c17f-55a1e7bfa0ea"
      },
      "execution_count": 4,
      "outputs": [
        {
          "output_type": "execute_result",
          "data": {
            "text/html": [
              "\n",
              "  <div id=\"df-8f091b52-b172-4c9b-a50f-9dd4b01491ff\">\n",
              "    <div class=\"colab-df-container\">\n",
              "      <div>\n",
              "<style scoped>\n",
              "    .dataframe tbody tr th:only-of-type {\n",
              "        vertical-align: middle;\n",
              "    }\n",
              "\n",
              "    .dataframe tbody tr th {\n",
              "        vertical-align: top;\n",
              "    }\n",
              "\n",
              "    .dataframe thead th {\n",
              "        text-align: right;\n",
              "    }\n",
              "</style>\n",
              "<table border=\"1\" class=\"dataframe\">\n",
              "  <thead>\n",
              "    <tr style=\"text-align: right;\">\n",
              "      <th></th>\n",
              "      <th>SepalLength</th>\n",
              "      <th>SepalWidth</th>\n",
              "      <th>PetalLength</th>\n",
              "      <th>PetalWidth</th>\n",
              "    </tr>\n",
              "    <tr>\n",
              "      <th>Name</th>\n",
              "      <th></th>\n",
              "      <th></th>\n",
              "      <th></th>\n",
              "      <th></th>\n",
              "    </tr>\n",
              "  </thead>\n",
              "  <tbody>\n",
              "    <tr>\n",
              "      <th>Iris-setosa</th>\n",
              "      <td>5.006</td>\n",
              "      <td>3.418</td>\n",
              "      <td>1.464</td>\n",
              "      <td>0.244</td>\n",
              "    </tr>\n",
              "    <tr>\n",
              "      <th>Iris-versicolor</th>\n",
              "      <td>5.936</td>\n",
              "      <td>2.770</td>\n",
              "      <td>4.260</td>\n",
              "      <td>1.326</td>\n",
              "    </tr>\n",
              "    <tr>\n",
              "      <th>Iris-virginica</th>\n",
              "      <td>6.588</td>\n",
              "      <td>2.974</td>\n",
              "      <td>5.552</td>\n",
              "      <td>2.026</td>\n",
              "    </tr>\n",
              "  </tbody>\n",
              "</table>\n",
              "</div>\n",
              "      <button class=\"colab-df-convert\" onclick=\"convertToInteractive('df-8f091b52-b172-4c9b-a50f-9dd4b01491ff')\"\n",
              "              title=\"Convert this dataframe to an interactive table.\"\n",
              "              style=\"display:none;\">\n",
              "        \n",
              "  <svg xmlns=\"http://www.w3.org/2000/svg\" height=\"24px\"viewBox=\"0 0 24 24\"\n",
              "       width=\"24px\">\n",
              "    <path d=\"M0 0h24v24H0V0z\" fill=\"none\"/>\n",
              "    <path d=\"M18.56 5.44l.94 2.06.94-2.06 2.06-.94-2.06-.94-.94-2.06-.94 2.06-2.06.94zm-11 1L8.5 8.5l.94-2.06 2.06-.94-2.06-.94L8.5 2.5l-.94 2.06-2.06.94zm10 10l.94 2.06.94-2.06 2.06-.94-2.06-.94-.94-2.06-.94 2.06-2.06.94z\"/><path d=\"M17.41 7.96l-1.37-1.37c-.4-.4-.92-.59-1.43-.59-.52 0-1.04.2-1.43.59L10.3 9.45l-7.72 7.72c-.78.78-.78 2.05 0 2.83L4 21.41c.39.39.9.59 1.41.59.51 0 1.02-.2 1.41-.59l7.78-7.78 2.81-2.81c.8-.78.8-2.07 0-2.86zM5.41 20L4 18.59l7.72-7.72 1.47 1.35L5.41 20z\"/>\n",
              "  </svg>\n",
              "      </button>\n",
              "      \n",
              "  <style>\n",
              "    .colab-df-container {\n",
              "      display:flex;\n",
              "      flex-wrap:wrap;\n",
              "      gap: 12px;\n",
              "    }\n",
              "\n",
              "    .colab-df-convert {\n",
              "      background-color: #E8F0FE;\n",
              "      border: none;\n",
              "      border-radius: 50%;\n",
              "      cursor: pointer;\n",
              "      display: none;\n",
              "      fill: #1967D2;\n",
              "      height: 32px;\n",
              "      padding: 0 0 0 0;\n",
              "      width: 32px;\n",
              "    }\n",
              "\n",
              "    .colab-df-convert:hover {\n",
              "      background-color: #E2EBFA;\n",
              "      box-shadow: 0px 1px 2px rgba(60, 64, 67, 0.3), 0px 1px 3px 1px rgba(60, 64, 67, 0.15);\n",
              "      fill: #174EA6;\n",
              "    }\n",
              "\n",
              "    [theme=dark] .colab-df-convert {\n",
              "      background-color: #3B4455;\n",
              "      fill: #D2E3FC;\n",
              "    }\n",
              "\n",
              "    [theme=dark] .colab-df-convert:hover {\n",
              "      background-color: #434B5C;\n",
              "      box-shadow: 0px 1px 3px 1px rgba(0, 0, 0, 0.15);\n",
              "      filter: drop-shadow(0px 1px 2px rgba(0, 0, 0, 0.3));\n",
              "      fill: #FFFFFF;\n",
              "    }\n",
              "  </style>\n",
              "\n",
              "      <script>\n",
              "        const buttonEl =\n",
              "          document.querySelector('#df-8f091b52-b172-4c9b-a50f-9dd4b01491ff button.colab-df-convert');\n",
              "        buttonEl.style.display =\n",
              "          google.colab.kernel.accessAllowed ? 'block' : 'none';\n",
              "\n",
              "        async function convertToInteractive(key) {\n",
              "          const element = document.querySelector('#df-8f091b52-b172-4c9b-a50f-9dd4b01491ff');\n",
              "          const dataTable =\n",
              "            await google.colab.kernel.invokeFunction('convertToInteractive',\n",
              "                                                     [key], {});\n",
              "          if (!dataTable) return;\n",
              "\n",
              "          const docLinkHtml = 'Like what you see? Visit the ' +\n",
              "            '<a target=\"_blank\" href=https://colab.research.google.com/notebooks/data_table.ipynb>data table notebook</a>'\n",
              "            + ' to learn more about interactive tables.';\n",
              "          element.innerHTML = '';\n",
              "          dataTable['output_type'] = 'display_data';\n",
              "          await google.colab.output.renderOutput(dataTable, element);\n",
              "          const docLink = document.createElement('div');\n",
              "          docLink.innerHTML = docLinkHtml;\n",
              "          element.appendChild(docLink);\n",
              "        }\n",
              "      </script>\n",
              "    </div>\n",
              "  </div>\n",
              "  "
            ],
            "text/plain": [
              "                 SepalLength  SepalWidth  PetalLength  PetalWidth\n",
              "Name                                                             \n",
              "Iris-setosa            5.006       3.418        1.464       0.244\n",
              "Iris-versicolor        5.936       2.770        4.260       1.326\n",
              "Iris-virginica         6.588       2.974        5.552       2.026"
            ]
          },
          "metadata": {},
          "execution_count": 4
        }
      ]
    },
    {
      "cell_type": "code",
      "source": [
        "sample_data.iloc[0,:]"
      ],
      "metadata": {
        "colab": {
          "base_uri": "https://localhost:8080/"
        },
        "id": "-sXJwnk07sLB",
        "outputId": "864b18ed-e778-4a7e-e0cf-a52518556993"
      },
      "execution_count": 5,
      "outputs": [
        {
          "output_type": "execute_result",
          "data": {
            "text/plain": [
              "SepalLength    5.006\n",
              "SepalWidth     3.418\n",
              "PetalLength    1.464\n",
              "PetalWidth     0.244\n",
              "Name: Iris-setosa, dtype: float64"
            ]
          },
          "metadata": {},
          "execution_count": 5
        }
      ]
    },
    {
      "cell_type": "code",
      "source": [
        "from matplotlib import pyplot as plt"
      ],
      "metadata": {
        "id": "UJCxtG-e6y9Q"
      },
      "execution_count": 6,
      "outputs": []
    },
    {
      "cell_type": "code",
      "source": [
        "plt.plot([1,2,3,4],sample_data.iloc[0,:],'ro') # plot SepalLength\tSepalWidth\tPetalLength\tPetalWidth ของดอกทั้ง 3 ชนิด\n",
        "plt.plot([1,2,3,4],sample_data.iloc[1,:],'g*')\n",
        "plt.plot([1,2,3,4],sample_data.iloc[2,:],'b^') #plot เปรียบเทียบเป็นกราฟ"
      ],
      "metadata": {
        "colab": {
          "base_uri": "https://localhost:8080/",
          "height": 282
        },
        "id": "X9dKRGMU7ZrW",
        "outputId": "ae6a8269-11e3-4d78-c4a5-e49b2bb74a53"
      },
      "execution_count": 7,
      "outputs": [
        {
          "output_type": "execute_result",
          "data": {
            "text/plain": [
              "[<matplotlib.lines.Line2D at 0x7f703f3bb9d0>]"
            ]
          },
          "metadata": {},
          "execution_count": 7
        },
        {
          "output_type": "display_data",
          "data": {
            "image/png": "[encoded data removed]",
            "text/plain": [
              "<Figure size 432x288 with 1 Axes>"
            ]
          },
          "metadata": {
            "needs_background": "light"
          }
        }
      ]
    },
    {
      "cell_type": "code",
      "source": [
        "plt.plot([1,2,3,4],sample_data.iloc[0,:],'ro-')\n",
        "plt.plot([1,2,3,4],sample_data.iloc[1,:],'g*-')\n",
        "plt.plot([1,2,3,4],sample_data.iloc[2,:],'b^-') #plot เปรียบเทียบเป็นกราฟมีเส้นขีด"
      ],
      "metadata": {
        "colab": {
          "base_uri": "https://localhost:8080/",
          "height": 282
        },
        "id": "vez_FzRL8X-d",
        "outputId": "88e71fb0-25bc-4f9f-b2d0-cc98fea41f20"
      },
      "execution_count": 8,
      "outputs": [
        {
          "output_type": "execute_result",
          "data": {
            "text/plain": [
              "[<matplotlib.lines.Line2D at 0x7f703eea1a50>]"
            ]
          },
          "metadata": {},
          "execution_count": 8
        },
        {
          "output_type": "display_data",
          "data": {
            "image/png": "[encoded data removed]",
            "text/plain": [
              "<Figure size 432x288 with 1 Axes>"
            ]
          },
          "metadata": {
            "needs_background": "light"
          }
        }
      ]
    },
    {
      "cell_type": "code",
      "source": [
        "plt.plot([1,1],[min(sample_data.iloc[:,0]),max(sample_data.iloc[:,0])],'c:') # ค่า x เป็น [1,1]\n",
        "plt.plot([2,2],[min(sample_data.iloc[:,1]),max(sample_data.iloc[:,1])],'c:')\n",
        "plt.plot([3,3],[min(sample_data.iloc[:,2]),max(sample_data.iloc[:,2])],'c:')\n",
        "plt.plot([4,4],[min(sample_data.iloc[:,3]),max(sample_data.iloc[:,3])],'c:')\n",
        "\n",
        "plt.plot([1,2,3,4],sample_data.iloc[0,:],'ro')\n",
        "plt.plot([1,2,3,4],sample_data.iloc[1,:],'g*')\n",
        "plt.plot([1,2,3,4],sample_data.iloc[2,:],'b^')"
      ],
      "metadata": {
        "colab": {
          "base_uri": "https://localhost:8080/",
          "height": 282
        },
        "id": "BF2XjO6q8y-8",
        "outputId": "fa8d907d-5066-4dfd-cffc-4d2409df91da"
      },
      "execution_count": 9,
      "outputs": [
        {
          "output_type": "execute_result",
          "data": {
            "text/plain": [
              "[<matplotlib.lines.Line2D at 0x7f703ee367d0>]"
            ]
          },
          "metadata": {},
          "execution_count": 9
        },
        {
          "output_type": "display_data",
          "data": {
            "image/png": "[encoded data removed]",
            "text/plain": [
              "<Figure size 432x288 with 1 Axes>"
            ]
          },
          "metadata": {
            "needs_background": "light"
          }
        }
      ]
    },
    {
      "cell_type": "markdown",
      "source": [
        "## การใช้ plt.plot"
      ],
      "metadata": {
        "id": "WsYR8jGl_DLu"
      }
    },
    {
      "cell_type": "code",
      "source": [
        "plt.plot([1],[2],'ro') #ค่าแกนxเป็น 1 แกนyเป็น 2 markerเป็นตัว 'o'"
      ],
      "metadata": {
        "colab": {
          "base_uri": "https://localhost:8080/",
          "height": 282
        },
        "id": "r9HtUTj5-q_c",
        "outputId": "4f6df694-06ac-4ee9-f88a-b200cb0e8042"
      },
      "execution_count": 10,
      "outputs": [
        {
          "output_type": "execute_result",
          "data": {
            "text/plain": [
              "[<matplotlib.lines.Line2D at 0x7f703edf5550>]"
            ]
          },
          "metadata": {},
          "execution_count": 10
        },
        {
          "output_type": "display_data",
          "data": {
            "image/png": "[encoded data removed]",
            "text/plain": [
              "<Figure size 432x288 with 1 Axes>"
            ]
          },
          "metadata": {
            "needs_background": "light"
          }
        }
      ]
    },
    {
      "cell_type": "code",
      "source": [
        "plt.plot([1,2],[2,4],'ro-.') #จุด[1,2] จุด[2,4] markerเป็น 'o' เชื่อมด้วย -."
      ],
      "metadata": {
        "colab": {
          "base_uri": "https://localhost:8080/",
          "height": 282
        },
        "id": "3sunrppg_nD4",
        "outputId": "ece28a61-319b-4714-f9d4-5b4b82d5150d"
      },
      "execution_count": 11,
      "outputs": [
        {
          "output_type": "execute_result",
          "data": {
            "text/plain": [
              "[<matplotlib.lines.Line2D at 0x7f703ed975d0>]"
            ]
          },
          "metadata": {},
          "execution_count": 11
        },
        {
          "output_type": "display_data",
          "data": {
            "image/png": "[encoded data removed]",
            "text/plain": [
              "<Figure size 432x288 with 1 Axes>"
            ]
          },
          "metadata": {
            "needs_background": "light"
          }
        }
      ]
    },
    {
      "cell_type": "code",
      "source": [
        "plt.plot([1,1],[min(sample_data.iloc[:,0]),max(sample_data.iloc[:,0])],'c:') # ค่า x เป็น [1,1]\n",
        "plt.plot([2,2],[min(sample_data.iloc[:,1]),max(sample_data.iloc[:,1])],'c:')\n",
        "plt.plot([3,3],[min(sample_data.iloc[:,2]),max(sample_data.iloc[:,2])],'c:')\n",
        "plt.plot([4,4],[min(sample_data.iloc[:,3]),max(sample_data.iloc[:,3])],'c:')\n",
        "\n",
        "plt.plot([1,2,3,4],sample_data.iloc[0,:],'ro',label='Setosa')\n",
        "plt.plot([1,2,3,4],sample_data.iloc[1,:],'g*',label='Versicolor')\n",
        "plt.plot([1,2,3,4],sample_data.iloc[2,:],'b^',label='Virginica') #บอกชื่อของแต่่ละดอก\n",
        "plt.legend()"
      ],
      "metadata": {
        "colab": {
          "base_uri": "https://localhost:8080/",
          "height": 282
        },
        "id": "IeeXL9AsAJD7",
        "outputId": "544ef0fe-e14f-4f16-8039-3bfc796dd59f"
      },
      "execution_count": 12,
      "outputs": [
        {
          "output_type": "execute_result",
          "data": {
            "text/plain": [
              "<matplotlib.legend.Legend at 0x7f703eca1b10>"
            ]
          },
          "metadata": {},
          "execution_count": 12
        },
        {
          "output_type": "display_data",
          "data": {
            "image/png": "[encoded data removed]",
            "text/plain": [
              "<Figure size 432x288 with 1 Axes>"
            ]
          },
          "metadata": {
            "needs_background": "light"
          }
        }
      ]
    },
    {
      "cell_type": "code",
      "source": [
        "example_df.iloc[:,:-1].columns.tolist()"
      ],
      "metadata": {
        "colab": {
          "base_uri": "https://localhost:8080/"
        },
        "id": "wiPg_RO4Bvnx",
        "outputId": "3fb82da6-f467-4c34-aead-e00d30b9635b"
      },
      "execution_count": 13,
      "outputs": [
        {
          "output_type": "execute_result",
          "data": {
            "text/plain": [
              "['SepalLength', 'SepalWidth', 'PetalLength', 'PetalWidth']"
            ]
          },
          "metadata": {},
          "execution_count": 13
        }
      ]
    },
    {
      "cell_type": "code",
      "source": [
        "plt.plot([1,1],[min(sample_data.iloc[:,0]),max(sample_data.iloc[:,0])],'c:') # ค่า x เป็น [1,1]\n",
        "plt.plot([2,2],[min(sample_data.iloc[:,1]),max(sample_data.iloc[:,1])],'c:')\n",
        "plt.plot([3,3],[min(sample_data.iloc[:,2]),max(sample_data.iloc[:,2])],'c:')\n",
        "plt.plot([4,4],[min(sample_data.iloc[:,3]),max(sample_data.iloc[:,3])],'c:')\n",
        "\n",
        "plt.plot([1,2,3,4],sample_data.iloc[0,:],'ro',label='Setosa')\n",
        "plt.plot([1,2,3,4],sample_data.iloc[1,:],'g*',label='Versicolor')\n",
        "plt.plot([1,2,3,4],sample_data.iloc[2,:],'b^',label='Virginica') #บอกชื่อของแต่่ละดอก\n",
        "plt.legend()\n",
        "plt.xticks([1,2,3,4],example_df.iloc[:,:-1].columns.tolist(),rotation='vertical')"
      ],
      "metadata": {
        "colab": {
          "base_uri": "https://localhost:8080/",
          "height": 456
        },
        "id": "5BtZzIeWBWlx",
        "outputId": "a99519f5-5dfd-448e-d050-426a6007ec8e"
      },
      "execution_count": 14,
      "outputs": [
        {
          "output_type": "execute_result",
          "data": {
            "text/plain": [
              "([<matplotlib.axis.XTick at 0x7f703eef1ed0>,\n",
              "  <matplotlib.axis.XTick at 0x7f703eef11d0>,\n",
              "  <matplotlib.axis.XTick at 0x7f703eef1350>,\n",
              "  <matplotlib.axis.XTick at 0x7f703ed40d10>],\n",
              " [Text(0, 0, 'SepalLength'),\n",
              "  Text(0, 0, 'SepalWidth'),\n",
              "  Text(0, 0, 'PetalLength'),\n",
              "  Text(0, 0, 'PetalWidth')])"
            ]
          },
          "metadata": {},
          "execution_count": 14
        },
        {
          "output_type": "display_data",
          "data": {
            "image/png": "[encoded data removed]",
            "text/plain": [
              "<Figure size 432x288 with 1 Axes>"
            ]
          },
          "metadata": {
            "needs_background": "light"
          }
        }
      ]
    },
    {
      "cell_type": "code",
      "source": [
        "plt.plot([1,1],[min(sample_data.iloc[:,0]),max(sample_data.iloc[:,0])],'c:') # ค่า x เป็น [1,1]\n",
        "plt.plot([2,2],[min(sample_data.iloc[:,1]),max(sample_data.iloc[:,1])],'c:')\n",
        "plt.plot([3,3],[min(sample_data.iloc[:,2]),max(sample_data.iloc[:,2])],'c:')\n",
        "plt.plot([4,4],[min(sample_data.iloc[:,3]),max(sample_data.iloc[:,3])],'c:')\n",
        "\n",
        "plt.plot([1,2,3,4],sample_data.iloc[0,:],'ro',label='Setosa')\n",
        "plt.plot([1,2,3,4],sample_data.iloc[1,:],'g*',label='Versicolor')\n",
        "plt.plot([1,2,3,4],sample_data.iloc[2,:],'b^',label='Virginica') #บอกชื่อของแต่่ละดอก\n",
        "plt.legend()\n",
        "plt.xticks([1,2,3,4],example_df.iloc[:,:-1].columns.tolist(),rotation='vertical')\n",
        "plt.title('Features comparison between 3 different Iris flowers'); #ชื่อตาราง"
      ],
      "metadata": {
        "colab": {
          "base_uri": "https://localhost:8080/",
          "height": 333
        },
        "id": "7oMUWqljCmAZ",
        "outputId": "f2c2113c-c533-4c74-ba97-ac30b1c21ec2"
      },
      "execution_count": 15,
      "outputs": [
        {
          "output_type": "display_data",
          "data": {
            "image/png": "[encoded data removed]",
            "text/plain": [
              "<Figure size 432x288 with 1 Axes>"
            ]
          },
          "metadata": {
            "needs_background": "light"
          }
        }
      ]
    },
    {
      "cell_type": "code",
      "source": [
        "plt.plot([1,1],[min(sample_data.iloc[:,0]),max(sample_data.iloc[:,0])],'c:') # ค่า x เป็น [1,1]\n",
        "plt.plot([2,2],[min(sample_data.iloc[:,1]),max(sample_data.iloc[:,1])],'c:')\n",
        "plt.plot([3,3],[min(sample_data.iloc[:,2]),max(sample_data.iloc[:,2])],'c:')\n",
        "plt.plot([4,4],[min(sample_data.iloc[:,3]),max(sample_data.iloc[:,3])],'c:')\n",
        "\n",
        "plt.plot([1,2,3,4],sample_data.iloc[0,:],'ro',label='Setosa')\n",
        "plt.plot([1,2,3,4],sample_data.iloc[1,:],'g*',label='Versicolor')\n",
        "plt.plot([1,2,3,4],sample_data.iloc[2,:],'b^',label='Virginica') #บอกชื่อของแต่่ละดอก\n",
        "plt.legend()\n",
        "plt.xticks([1,2,3,4],example_df.iloc[:,:-1].columns.tolist(),rotation='vertical')\n",
        "plt.title('Features comparison between 3 different Iris flowers') #ชื่อตาราง\n",
        "plt.ylabel('size(cm)'); #ชื่อตารางแกนx (ทางซ้าย)"
      ],
      "metadata": {
        "colab": {
          "base_uri": "https://localhost:8080/",
          "height": 333
        },
        "id": "iLaZKwE0C80r",
        "outputId": "23e4c7a7-7769-439f-99b4-cf5072ad0246"
      },
      "execution_count": 16,
      "outputs": [
        {
          "output_type": "display_data",
          "data": {
            "image/png": "[encoded data removed]",
            "text/plain": [
              "<Figure size 432x288 with 1 Axes>"
            ]
          },
          "metadata": {
            "needs_background": "light"
          }
        }
      ]
    },
    {
      "cell_type": "markdown",
      "source": [
        "HW วาดรูป ก้อนเมฆและฝนด้วย plt.plot"
      ],
      "metadata": {
        "id": "z3nJY94WDkUa"
      }
    },
    {
      "cell_type": "code",
      "source": [
        "plt.plot([10],[2],'ko') # plot จุดแต่ละจุดเรียงกันเป็นก้อนเมฆโดยใช้คำสั่ง plt.plot\n",
        "plt.plot([9.75],[3.75],'ko')\n",
        "plt.plot([9],[3],'ko')\n",
        "plt.plot([11],[4],'ko')\n",
        "plt.plot([11],[4.75],'ko')\n",
        "plt.plot([12.3],[5],'ko')\n",
        "plt.plot([13],[4.75],'ko')\n",
        "plt.plot([13.25],[5.5],'ko')\n",
        "plt.plot([14],[6],'ko')\n",
        "plt.plot([14.75],[1.1],'ko')\n",
        "plt.plot([15],[5.5],'ko')\n",
        "plt.plot([16],[5.25],'ko')\n",
        "plt.plot([16.5],[4.5],'ko')\n",
        "plt.plot([17],[3],'ko')\n",
        "plt.plot([17.35],[4],'ko')\n",
        "plt.plot([17.25],[2],'ko')\n",
        "plt.plot([15.5],[1.5],'ko')\n",
        "plt.plot([14],[1],'ko')\n",
        "plt.plot([13.25],[1.5],'ko')\n",
        "plt.plot([13],[2],'ko')\n",
        "plt.plot([11],[1.25],'ko')\n",
        "plt.plot([12.25],[1.5],'ko')\n",
        "plt.plot([16.45],[1.35],'ko')\n",
        "plt.plot([17],[4.35],'ko')\n",
        "plt.plot([17.25],[3.5],'ko')\n",
        "plt.plot([9.35],[2.5],'ko')\n",
        "plt.plot([10.25],[1.35],'ko')\n",
        "plt.plot([11.6],[1.35],'ko')\n",
        "plt.plot([9.25],[3.45],'ko')\n",
        "plt.plot([10.4],[3.9],'ko')\n",
        "plt.plot([11.4],[4.95],'ko')\n",
        "plt.plot([14.5],[5.9],'ko')\n",
        "plt.plot([10],[2],'ko')\n",
        "plt.plot([17],[1.5],'ko')\n",
        "plt.plot([17.2],[2.5],'ko')\n",
        "plt.plot([15.6],[5.4],'ko')\n",
        "plt.plot([16.3],[4.9],'ko')\n",
        "plt.plot([16],[1.3],'ko')\n",
        "plt.plot([15.2],[1.3],'ko')\n",
        "plt.plot([11.8],[5],'ko')\n",
        "plt.plot([13.6],[5.8],'ko')\n",
        "plt.plot([13,12.5],[0,-1],'b-.') #plot จุด2จุดแล้วลากเส้นเป็นเส้นฝน \n",
        "plt.plot([12,11.5],[0,-1],'b-.')\n",
        "plt.plot([11,10.5],[0,-1],'b-.')\n",
        "plt.plot([14,13.5],[0,-1],'b-.')\n",
        "plt.plot([15,14.5],[0,-1],'b-.')\n",
        "plt.plot([16,15.5],[0,-1],'b-.')\n",
        "plt.plot([14,13.5],[-1.5,-2.5],'b-.')\n",
        "plt.plot([13,12.5],[-1.5,-2.5],'b-.')\n",
        "plt.plot([12,11.5],[-1.5,-2.5],'b-.')\n",
        "plt.plot([11,10.5],[-1.5,-2.5],'b-.')\n",
        "plt.plot([15,14.5],[-1.5,-2.5],'b-.')\n",
        "plt.title('Cloud and Rain') ; #ชื่อตาราง"
      ],
      "metadata": {
        "id": "eoEpF94tDV4M",
        "colab": {
          "base_uri": "https://localhost:8080/",
          "height": 281
        },
        "outputId": "05959ae4-6248-4933-f0c9-2e2f8a747db7"
      },
      "execution_count": 17,
      "outputs": [
        {
          "output_type": "display_data",
          "data": {
            "image/png": "[encoded data removed]",
            "text/plain": [
              "<Figure size 432x288 with 1 Axes>"
            ]
          },
          "metadata": {
            "needs_background": "light"
          }
        }
      ]
    },
    {
      "cell_type": "markdown",
      "source": [
        "# Bar chart"
      ],
      "metadata": {
        "id": "8cTdlRAkW0WE"
      }
    },
    {
      "cell_type": "code",
      "source": [
        "sample_data "
      ],
      "metadata": {
        "id": "Y_ItHZMwpV_l",
        "colab": {
          "base_uri": "https://localhost:8080/",
          "height": 174
        },
        "outputId": "c72de07b-1cbe-4f6d-dc3b-1acdf1d181c0"
      },
      "execution_count": 18,
      "outputs": [
        {
          "output_type": "execute_result",
          "data": {
            "text/html": [
              "\n",
              "  <div id=\"df-a6c67054-ea0e-4996-98b3-2b0a3096ac50\">\n",
              "    <div class=\"colab-df-container\">\n",
              "      <div>\n",
              "<style scoped>\n",
              "    .dataframe tbody tr th:only-of-type {\n",
              "        vertical-align: middle;\n",
              "    }\n",
              "\n",
              "    .dataframe tbody tr th {\n",
              "        vertical-align: top;\n",
              "    }\n",
              "\n",
              "    .dataframe thead th {\n",
              "        text-align: right;\n",
              "    }\n",
              "</style>\n",
              "<table border=\"1\" class=\"dataframe\">\n",
              "  <thead>\n",
              "    <tr style=\"text-align: right;\">\n",
              "      <th></th>\n",
              "      <th>SepalLength</th>\n",
              "      <th>SepalWidth</th>\n",
              "      <th>PetalLength</th>\n",
              "      <th>PetalWidth</th>\n",
              "    </tr>\n",
              "    <tr>\n",
              "      <th>Name</th>\n",
              "      <th></th>\n",
              "      <th></th>\n",
              "      <th></th>\n",
              "      <th></th>\n",
              "    </tr>\n",
              "  </thead>\n",
              "  <tbody>\n",
              "    <tr>\n",
              "      <th>Iris-setosa</th>\n",
              "      <td>5.006</td>\n",
              "      <td>3.418</td>\n",
              "      <td>1.464</td>\n",
              "      <td>0.244</td>\n",
              "    </tr>\n",
              "    <tr>\n",
              "      <th>Iris-versicolor</th>\n",
              "      <td>5.936</td>\n",
              "      <td>2.770</td>\n",
              "      <td>4.260</td>\n",
              "      <td>1.326</td>\n",
              "    </tr>\n",
              "    <tr>\n",
              "      <th>Iris-virginica</th>\n",
              "      <td>6.588</td>\n",
              "      <td>2.974</td>\n",
              "      <td>5.552</td>\n",
              "      <td>2.026</td>\n",
              "    </tr>\n",
              "  </tbody>\n",
              "</table>\n",
              "</div>\n",
              "      <button class=\"colab-df-convert\" onclick=\"convertToInteractive('df-a6c67054-ea0e-4996-98b3-2b0a3096ac50')\"\n",
              "              title=\"Convert this dataframe to an interactive table.\"\n",
              "              style=\"display:none;\">\n",
              "        \n",
              "  <svg xmlns=\"http://www.w3.org/2000/svg\" height=\"24px\"viewBox=\"0 0 24 24\"\n",
              "       width=\"24px\">\n",
              "    <path d=\"M0 0h24v24H0V0z\" fill=\"none\"/>\n",
              "    <path d=\"M18.56 5.44l.94 2.06.94-2.06 2.06-.94-2.06-.94-.94-2.06-.94 2.06-2.06.94zm-11 1L8.5 8.5l.94-2.06 2.06-.94-2.06-.94L8.5 2.5l-.94 2.06-2.06.94zm10 10l.94 2.06.94-2.06 2.06-.94-2.06-.94-.94-2.06-.94 2.06-2.06.94z\"/><path d=\"M17.41 7.96l-1.37-1.37c-.4-.4-.92-.59-1.43-.59-.52 0-1.04.2-1.43.59L10.3 9.45l-7.72 7.72c-.78.78-.78 2.05 0 2.83L4 21.41c.39.39.9.59 1.41.59.51 0 1.02-.2 1.41-.59l7.78-7.78 2.81-2.81c.8-.78.8-2.07 0-2.86zM5.41 20L4 18.59l7.72-7.72 1.47 1.35L5.41 20z\"/>\n",
              "  </svg>\n",
              "      </button>\n",
              "      \n",
              "  <style>\n",
              "    .colab-df-container {\n",
              "      display:flex;\n",
              "      flex-wrap:wrap;\n",
              "      gap: 12px;\n",
              "    }\n",
              "\n",
              "    .colab-df-convert {\n",
              "      background-color: #E8F0FE;\n",
              "      border: none;\n",
              "      border-radius: 50%;\n",
              "      cursor: pointer;\n",
              "      display: none;\n",
              "      fill: #1967D2;\n",
              "      height: 32px;\n",
              "      padding: 0 0 0 0;\n",
              "      width: 32px;\n",
              "    }\n",
              "\n",
              "    .colab-df-convert:hover {\n",
              "      background-color: #E2EBFA;\n",
              "      box-shadow: 0px 1px 2px rgba(60, 64, 67, 0.3), 0px 1px 3px 1px rgba(60, 64, 67, 0.15);\n",
              "      fill: #174EA6;\n",
              "    }\n",
              "\n",
              "    [theme=dark] .colab-df-convert {\n",
              "      background-color: #3B4455;\n",
              "      fill: #D2E3FC;\n",
              "    }\n",
              "\n",
              "    [theme=dark] .colab-df-convert:hover {\n",
              "      background-color: #434B5C;\n",
              "      box-shadow: 0px 1px 3px 1px rgba(0, 0, 0, 0.15);\n",
              "      filter: drop-shadow(0px 1px 2px rgba(0, 0, 0, 0.3));\n",
              "      fill: #FFFFFF;\n",
              "    }\n",
              "  </style>\n",
              "\n",
              "      <script>\n",
              "        const buttonEl =\n",
              "          document.querySelector('#df-a6c67054-ea0e-4996-98b3-2b0a3096ac50 button.colab-df-convert');\n",
              "        buttonEl.style.display =\n",
              "          google.colab.kernel.accessAllowed ? 'block' : 'none';\n",
              "\n",
              "        async function convertToInteractive(key) {\n",
              "          const element = document.querySelector('#df-a6c67054-ea0e-4996-98b3-2b0a3096ac50');\n",
              "          const dataTable =\n",
              "            await google.colab.kernel.invokeFunction('convertToInteractive',\n",
              "                                                     [key], {});\n",
              "          if (!dataTable) return;\n",
              "\n",
              "          const docLinkHtml = 'Like what you see? Visit the ' +\n",
              "            '<a target=\"_blank\" href=https://colab.research.google.com/notebooks/data_table.ipynb>data table notebook</a>'\n",
              "            + ' to learn more about interactive tables.';\n",
              "          element.innerHTML = '';\n",
              "          dataTable['output_type'] = 'display_data';\n",
              "          await google.colab.output.renderOutput(dataTable, element);\n",
              "          const docLink = document.createElement('div');\n",
              "          docLink.innerHTML = docLinkHtml;\n",
              "          element.appendChild(docLink);\n",
              "        }\n",
              "      </script>\n",
              "    </div>\n",
              "  </div>\n",
              "  "
            ],
            "text/plain": [
              "                 SepalLength  SepalWidth  PetalLength  PetalWidth\n",
              "Name                                                             \n",
              "Iris-setosa            5.006       3.418        1.464       0.244\n",
              "Iris-versicolor        5.936       2.770        4.260       1.326\n",
              "Iris-virginica         6.588       2.974        5.552       2.026"
            ]
          },
          "metadata": {},
          "execution_count": 18
        }
      ]
    },
    {
      "cell_type": "code",
      "source": [
        "sample_data['PetalLength'] #แสดงข้อมูลจากตาราง sample_data เฉพาะ PetalLength"
      ],
      "metadata": {
        "colab": {
          "base_uri": "https://localhost:8080/"
        },
        "id": "2p5bure0YAP6",
        "outputId": "e76135ee-1d8a-4d51-ee9a-b45b59e250d3"
      },
      "execution_count": 20,
      "outputs": [
        {
          "output_type": "execute_result",
          "data": {
            "text/plain": [
              "Name\n",
              "Iris-setosa        1.464\n",
              "Iris-versicolor    4.260\n",
              "Iris-virginica     5.552\n",
              "Name: PetalLength, dtype: float64"
            ]
          },
          "metadata": {},
          "execution_count": 20
        }
      ]
    },
    {
      "cell_type": "code",
      "source": [
        "plt.bar([1,2,3],sample_data['PetalLength']) #เปรียบเทียบ PetalLength ดอกไม้ 3 ชนิด"
      ],
      "metadata": {
        "id": "Yj8YdLej9NmX",
        "colab": {
          "base_uri": "https://localhost:8080/",
          "height": 282
        },
        "outputId": "6040a636-ce95-48c0-ea8e-4b889b7385d7"
      },
      "execution_count": 21,
      "outputs": [
        {
          "output_type": "execute_result",
          "data": {
            "text/plain": [
              "<BarContainer object of 3 artists>"
            ]
          },
          "metadata": {},
          "execution_count": 21
        },
        {
          "output_type": "display_data",
          "data": {
            "image/png": "[encoded data removed]",
            "text/plain": [
              "<Figure size 432x288 with 1 Axes>"
            ]
          },
          "metadata": {
            "needs_background": "light"
          }
        }
      ]
    },
    {
      "cell_type": "code",
      "source": [
        "sample_data.reset_index() #Name จะถูกทำให้เป็นค่า column"
      ],
      "metadata": {
        "colab": {
          "base_uri": "https://localhost:8080/",
          "height": 143
        },
        "id": "M0ZePQXSY2cF",
        "outputId": "9b6887be-a7ba-45a8-9d43-e0c0e027e280"
      },
      "execution_count": 22,
      "outputs": [
        {
          "output_type": "execute_result",
          "data": {
            "text/html": [
              "\n",
              "  <div id=\"df-d6ef5980-988a-4f7f-ae44-de29d78632ba\">\n",
              "    <div class=\"colab-df-container\">\n",
              "      <div>\n",
              "<style scoped>\n",
              "    .dataframe tbody tr th:only-of-type {\n",
              "        vertical-align: middle;\n",
              "    }\n",
              "\n",
              "    .dataframe tbody tr th {\n",
              "        vertical-align: top;\n",
              "    }\n",
              "\n",
              "    .dataframe thead th {\n",
              "        text-align: right;\n",
              "    }\n",
              "</style>\n",
              "<table border=\"1\" class=\"dataframe\">\n",
              "  <thead>\n",
              "    <tr style=\"text-align: right;\">\n",
              "      <th></th>\n",
              "      <th>Name</th>\n",
              "      <th>SepalLength</th>\n",
              "      <th>SepalWidth</th>\n",
              "      <th>PetalLength</th>\n",
              "      <th>PetalWidth</th>\n",
              "    </tr>\n",
              "  </thead>\n",
              "  <tbody>\n",
              "    <tr>\n",
              "      <th>0</th>\n",
              "      <td>Iris-setosa</td>\n",
              "      <td>5.006</td>\n",
              "      <td>3.418</td>\n",
              "      <td>1.464</td>\n",
              "      <td>0.244</td>\n",
              "    </tr>\n",
              "    <tr>\n",
              "      <th>1</th>\n",
              "      <td>Iris-versicolor</td>\n",
              "      <td>5.936</td>\n",
              "      <td>2.770</td>\n",
              "      <td>4.260</td>\n",
              "      <td>1.326</td>\n",
              "    </tr>\n",
              "    <tr>\n",
              "      <th>2</th>\n",
              "      <td>Iris-virginica</td>\n",
              "      <td>6.588</td>\n",
              "      <td>2.974</td>\n",
              "      <td>5.552</td>\n",
              "      <td>2.026</td>\n",
              "    </tr>\n",
              "  </tbody>\n",
              "</table>\n",
              "</div>\n",
              "      <button class=\"colab-df-convert\" onclick=\"convertToInteractive('df-d6ef5980-988a-4f7f-ae44-de29d78632ba')\"\n",
              "              title=\"Convert this dataframe to an interactive table.\"\n",
              "              style=\"display:none;\">\n",
              "        \n",
              "  <svg xmlns=\"http://www.w3.org/2000/svg\" height=\"24px\"viewBox=\"0 0 24 24\"\n",
              "       width=\"24px\">\n",
              "    <path d=\"M0 0h24v24H0V0z\" fill=\"none\"/>\n",
              "    <path d=\"M18.56 5.44l.94 2.06.94-2.06 2.06-.94-2.06-.94-.94-2.06-.94 2.06-2.06.94zm-11 1L8.5 8.5l.94-2.06 2.06-.94-2.06-.94L8.5 2.5l-.94 2.06-2.06.94zm10 10l.94 2.06.94-2.06 2.06-.94-2.06-.94-.94-2.06-.94 2.06-2.06.94z\"/><path d=\"M17.41 7.96l-1.37-1.37c-.4-.4-.92-.59-1.43-.59-.52 0-1.04.2-1.43.59L10.3 9.45l-7.72 7.72c-.78.78-.78 2.05 0 2.83L4 21.41c.39.39.9.59 1.41.59.51 0 1.02-.2 1.41-.59l7.78-7.78 2.81-2.81c.8-.78.8-2.07 0-2.86zM5.41 20L4 18.59l7.72-7.72 1.47 1.35L5.41 20z\"/>\n",
              "  </svg>\n",
              "      </button>\n",
              "      \n",
              "  <style>\n",
              "    .colab-df-container {\n",
              "      display:flex;\n",
              "      flex-wrap:wrap;\n",
              "      gap: 12px;\n",
              "    }\n",
              "\n",
              "    .colab-df-convert {\n",
              "      background-color: #E8F0FE;\n",
              "      border: none;\n",
              "      border-radius: 50%;\n",
              "      cursor: pointer;\n",
              "      display: none;\n",
              "      fill: #1967D2;\n",
              "      height: 32px;\n",
              "      padding: 0 0 0 0;\n",
              "      width: 32px;\n",
              "    }\n",
              "\n",
              "    .colab-df-convert:hover {\n",
              "      background-color: #E2EBFA;\n",
              "      box-shadow: 0px 1px 2px rgba(60, 64, 67, 0.3), 0px 1px 3px 1px rgba(60, 64, 67, 0.15);\n",
              "      fill: #174EA6;\n",
              "    }\n",
              "\n",
              "    [theme=dark] .colab-df-convert {\n",
              "      background-color: #3B4455;\n",
              "      fill: #D2E3FC;\n",
              "    }\n",
              "\n",
              "    [theme=dark] .colab-df-convert:hover {\n",
              "      background-color: #434B5C;\n",
              "      box-shadow: 0px 1px 3px 1px rgba(0, 0, 0, 0.15);\n",
              "      filter: drop-shadow(0px 1px 2px rgba(0, 0, 0, 0.3));\n",
              "      fill: #FFFFFF;\n",
              "    }\n",
              "  </style>\n",
              "\n",
              "      <script>\n",
              "        const buttonEl =\n",
              "          document.querySelector('#df-d6ef5980-988a-4f7f-ae44-de29d78632ba button.colab-df-convert');\n",
              "        buttonEl.style.display =\n",
              "          google.colab.kernel.accessAllowed ? 'block' : 'none';\n",
              "\n",
              "        async function convertToInteractive(key) {\n",
              "          const element = document.querySelector('#df-d6ef5980-988a-4f7f-ae44-de29d78632ba');\n",
              "          const dataTable =\n",
              "            await google.colab.kernel.invokeFunction('convertToInteractive',\n",
              "                                                     [key], {});\n",
              "          if (!dataTable) return;\n",
              "\n",
              "          const docLinkHtml = 'Like what you see? Visit the ' +\n",
              "            '<a target=\"_blank\" href=https://colab.research.google.com/notebooks/data_table.ipynb>data table notebook</a>'\n",
              "            + ' to learn more about interactive tables.';\n",
              "          element.innerHTML = '';\n",
              "          dataTable['output_type'] = 'display_data';\n",
              "          await google.colab.output.renderOutput(dataTable, element);\n",
              "          const docLink = document.createElement('div');\n",
              "          docLink.innerHTML = docLinkHtml;\n",
              "          element.appendChild(docLink);\n",
              "        }\n",
              "      </script>\n",
              "    </div>\n",
              "  </div>\n",
              "  "
            ],
            "text/plain": [
              "              Name  SepalLength  SepalWidth  PetalLength  PetalWidth\n",
              "0      Iris-setosa        5.006       3.418        1.464       0.244\n",
              "1  Iris-versicolor        5.936       2.770        4.260       1.326\n",
              "2   Iris-virginica        6.588       2.974        5.552       2.026"
            ]
          },
          "metadata": {},
          "execution_count": 22
        }
      ]
    },
    {
      "cell_type": "code",
      "source": [
        "plt.bar([1,2,3],sample_data['PetalLength'])\n",
        "plt.xticks([1,2,3],sample_data.reset_index()['Name'],rotation='vertical')\n",
        "plt.title('Comparison between average petal length of 3 iris flower') #ชื่อตาราง\n",
        "plt.grid(True,axis='y') #เปิดตาราง เปิดเฉพาะแกน y\n",
        "plt.ylabel('size(cm)'); #ชื่อตารางแกนx (ทางซ้าย)"
      ],
      "metadata": {
        "colab": {
          "base_uri": "https://localhost:8080/",
          "height": 339
        },
        "id": "-NUO6X88Ylh7",
        "outputId": "dca2ab25-111b-4181-cb8b-9e23cab524be"
      },
      "execution_count": 33,
      "outputs": [
        {
          "output_type": "display_data",
          "data": {
            "image/png": "[encoded data removed]",
            "text/plain": [
              "<Figure size 432x288 with 1 Axes>"
            ]
          },
          "metadata": {
            "needs_background": "light"
          }
        }
      ]
    },
    {
      "cell_type": "code",
      "source": [
        "plt.bar([1,2,3],sample_data['PetalLength'],color=['r','g','b']) #ใส่สี\n",
        "plt.xticks([1,2,3],sample_data.reset_index()['Name'],rotation='vertical') #ชื่อแต่ละแกน\n",
        "plt.title('Comparison between average petal length of 3 iris flower') #ชื่อตาราง\n",
        "plt.grid(True)\n",
        "plt.ylabel('size(cm)'); #ชื่อตารางแกนx (ทางซ้าย)"
      ],
      "metadata": {
        "colab": {
          "base_uri": "https://localhost:8080/",
          "height": 339
        },
        "id": "cdHewnMLaUE3",
        "outputId": "0c9d1ef4-c630-4416-904a-0443def50666"
      },
      "execution_count": 36,
      "outputs": [
        {
          "output_type": "display_data",
          "data": {
            "image/png": "[encoded data removed]",
            "text/plain": [
              "<Figure size 432x288 with 1 Axes>"
            ]
          },
          "metadata": {
            "needs_background": "light"
          }
        }
      ]
    },
    {
      "cell_type": "markdown",
      "source": [
        "## เปรียบเทียบปริมาณมากกว่า 1 ปริมาณของ object หลาย class"
      ],
      "metadata": {
        "id": "HsWxI10FdenW"
      }
    },
    {
      "cell_type": "code",
      "source": [
        "import numpy as np"
      ],
      "metadata": {
        "id": "fIgEE68NcT-s"
      },
      "execution_count": 37,
      "outputs": []
    },
    {
      "cell_type": "code",
      "source": [
        "width = 0.2\n",
        "\n",
        "plt.bar([1,2],[sample_data['PetalLength'][1],sample_data['PetalWidth'][1]],width,color='g',label='vericolor') #ดอกที่2 versicolor\n",
        "plt.bar([1-width,2-width],[sample_data['PetalLength'][0],sample_data['PetalWidth'][0]],width,color='r',label='setosa') #ดอกที่1 setosa ขยับซ้าย\n",
        "plt.bar([1+width,2+width],[sample_data['PetalLength'][2],sample_data['PetalWidth'][2]],width,color='b',label='verginica') #ดอกที่3 verginica ขยับขวา\n",
        "\n",
        "plt.xticks([1,2],['Petal Length','Petal Width'])\n",
        "plt.legend();"
      ],
      "metadata": {
        "colab": {
          "base_uri": "https://localhost:8080/",
          "height": 265
        },
        "id": "12dJmsWneAA6",
        "outputId": "ccf1b796-143a-4eea-82e5-9e52409480e9"
      },
      "execution_count": 38,
      "outputs": [
        {
          "output_type": "display_data",
          "data": {
            "image/png": "[encoded data removed]",
            "text/plain": [
              "<Figure size 432x288 with 1 Axes>"
            ]
          },
          "metadata": {
            "needs_background": "light"
          }
        }
      ]
    },
    {
      "cell_type": "markdown",
      "source": [
        "การนำปริมาณหลายปริมาณมาซ้อนกัน"
      ],
      "metadata": {
        "id": "RBhqyLc3iUja"
      }
    },
    {
      "cell_type": "code",
      "source": [
        ""
      ],
      "metadata": {
        "id": "PuzTYw2BiBPj"
      },
      "execution_count": null,
      "outputs": []
    }
  ]
}